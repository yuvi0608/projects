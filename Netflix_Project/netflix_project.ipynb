{
 "cells": [
  {
   "cell_type": "code",
   "execution_count": 0,
   "metadata": {
    "application/vnd.databricks.v1+cell": {
     "cellMetadata": {
      "byteLimit": 2048000,
      "rowLimit": 10000
     },
     "collapsed": true,
     "inputWidgets": {},
     "nuid": "e5ff4472-abe5-4d9d-94d7-2528f8a71adb",
     "showTitle": false,
     "tableResultSettingsMap": {
      "0": {
       "dataGridStateBlob": "{\"version\":1,\"tableState\":{\"columnPinning\":{\"left\":[\"#row_number#\"],\"right\":[]},\"columnSizing\":{},\"columnVisibility\":{}},\"settings\":{\"columns\":{}},\"syncTimestamp\":1755838368074}",
       "filterBlob": null,
       "queryPlanFiltersBlob": null,
       "tableResultIndex": 0
      }
     },
     "title": ""
    }
   },
   "outputs": [],
   "source": [
    "%python\n",
    "df = spark.read.csv(\"/Volumes/workspace/project/project_files/netflix_titles.csv\", header=True, inferSchema=True)\n",
    "\n",
    "df.display()"
   ]
  },
  {
   "cell_type": "code",
   "execution_count": 0,
   "metadata": {
    "application/vnd.databricks.v1+cell": {
     "cellMetadata": {
      "byteLimit": 2048000,
      "rowLimit": 10000
     },
     "inputWidgets": {},
     "nuid": "82e46440-5e4d-44bc-ae76-5c568c3ff7e6",
     "showTitle": false,
     "tableResultSettingsMap": {},
     "title": ""
    }
   },
   "outputs": [],
   "source": [
    "%python\n",
    "\n",
    "# save as managed table\n",
    "df.write.mode(\"overwrite\").saveAsTable(\"workspace.project.netflix_titles\")"
   ]
  },
  {
   "cell_type": "code",
   "execution_count": 0,
   "metadata": {
    "application/vnd.databricks.v1+cell": {
     "cellMetadata": {
      "byteLimit": 2048000,
      "rowLimit": 10000
     },
     "collapsed": true,
     "inputWidgets": {},
     "nuid": "0ac5a087-4068-4886-808e-c4bd122ffe49",
     "showTitle": false,
     "tableResultSettingsMap": {},
     "title": ""
    }
   },
   "outputs": [],
   "source": [
    "%python\n",
    "from pyspark.sql import functions as F\n",
    "\n",
    "table_name = \"workspace.project.netflix_titles\"\n",
    "df = spark.table(table_name)\n",
    "\n",
    "null_counts = df.select([\n",
    "    F.count(F.when(F.col(c).isNull(), c)).alias(c + \"_nulls\") \n",
    "    for c in df.columns\n",
    "])\n",
    "\n",
    "null_counts.display()"
   ]
  },
  {
   "cell_type": "code",
   "execution_count": 0,
   "metadata": {
    "application/vnd.databricks.v1+cell": {
     "cellMetadata": {
      "byteLimit": 2048000,
      "rowLimit": 10000
     },
     "inputWidgets": {},
     "nuid": "8914ecc1-3e92-48fc-8bcd-e95780ac6121",
     "showTitle": false,
     "tableResultSettingsMap": {},
     "title": ""
    }
   },
   "outputs": [],
   "source": [
    "-- checking the data in sql \n",
    "SELECT * from workspace.project.netflix_titles\n",
    "where show_id = 's5023'"
   ]
  },
  {
   "cell_type": "code",
   "execution_count": 0,
   "metadata": {
    "application/vnd.databricks.v1+cell": {
     "cellMetadata": {
      "byteLimit": 2048000,
      "rowLimit": 10000
     },
     "inputWidgets": {},
     "nuid": "6a8b63bc-9652-4862-809c-8fcca239fd4f",
     "showTitle": false,
     "tableResultSettingsMap": {},
     "title": ""
    }
   },
   "outputs": [],
   "source": [
    "\n",
    "--  Checking duplicates \n",
    "\n",
    "SELECT show_id, count(*) from workspace.project.netflix_titles\n",
    "group by show_id\n",
    "HAVING count(*) > 1"
   ]
  },
  {
   "cell_type": "code",
   "execution_count": 0,
   "metadata": {
    "application/vnd.databricks.v1+cell": {
     "cellMetadata": {
      "byteLimit": 2048000,
      "rowLimit": 10000
     },
     "inputWidgets": {},
     "nuid": "822efc1a-a933-4bd3-8710-c64ffb84135c",
     "showTitle": false,
     "tableResultSettingsMap": {},
     "title": ""
    }
   },
   "outputs": [],
   "source": [
    "Select * from \n",
    "(SELECT upper(title),type, count(*) from workspace.project.netflix_titles\n",
    "group by upper(title), type\n",
    "HAVING count(*) > 1\n",
    ")\n",
    "-- SELECT * from workspace.project.netflix_titles\n",
    "-- where title = 'DEATH NOTE'\n"
   ]
  },
  {
   "cell_type": "code",
   "execution_count": 0,
   "metadata": {
    "application/vnd.databricks.v1+cell": {
     "cellMetadata": {
      "byteLimit": 2048000,
      "rowLimit": 10000
     },
     "inputWidgets": {},
     "nuid": "64882ff6-13ce-4245-b174-9a101f110450",
     "showTitle": false,
     "tableResultSettingsMap": {},
     "title": ""
    }
   },
   "outputs": [],
   "source": [
    "with base as (SELECT *, \n",
    "row_number() OVER (partition by upper(title), type order by show_id) as rn \n",
    "FROM workspace.project.netflix_titles\n",
    ")\n",
    "Select * from base where rn > 1"
   ]
  },
  {
   "cell_type": "code",
   "execution_count": 0,
   "metadata": {
    "application/vnd.databricks.v1+cell": {
     "cellMetadata": {
      "byteLimit": 2048000,
      "rowLimit": 10000
     },
     "inputWidgets": {},
     "nuid": "7d9b664b-bc56-4af3-b260-becb71ae7bbe",
     "showTitle": false,
     "tableResultSettingsMap": {},
     "title": ""
    }
   },
   "outputs": [],
   "source": [
    "-- Splitting the directors\n",
    "\n",
    "Create or replace view workspace.project.netflix_directors \n",
    "AS \n",
    "SELECT\n",
    "  show_id,\n",
    "  trim(director_name) AS director\n",
    "FROM (\n",
    "  SELECT\n",
    "    show_id,\n",
    "    explode(split(director, ',')) AS director_name\n",
    "  FROM workspace.project.netflix_titles\n",
    ")"
   ]
  },
  {
   "cell_type": "code",
   "execution_count": 0,
   "metadata": {
    "application/vnd.databricks.v1+cell": {
     "cellMetadata": {
      "byteLimit": 2048000,
      "rowLimit": 10000
     },
     "collapsed": true,
     "inputWidgets": {},
     "nuid": "57197a9c-618a-48fe-a29b-7c535b59117f",
     "showTitle": false,
     "tableResultSettingsMap": {},
     "title": ""
    }
   },
   "outputs": [],
   "source": [
    "Select * from workspace.project.netflix_directors"
   ]
  },
  {
   "cell_type": "code",
   "execution_count": 0,
   "metadata": {
    "application/vnd.databricks.v1+cell": {
     "cellMetadata": {
      "byteLimit": 2048000,
      "rowLimit": 10000
     },
     "inputWidgets": {},
     "nuid": "9421dcfd-bef5-429c-99c3-5fd0414763ea",
     "showTitle": false,
     "tableResultSettingsMap": {},
     "title": ""
    }
   },
   "outputs": [],
   "source": [
    "-- Splitting the country\n",
    "\n",
    "Create or replace view workspace.project.netflix_country \n",
    "AS \n",
    "SELECT\n",
    "  show_id,\n",
    "  trim(country) AS country\n",
    "FROM (\n",
    "  SELECT\n",
    "    show_id,\n",
    "    explode(split(country, ',')) AS country\n",
    "  FROM workspace.project.netflix_titles\n",
    ")"
   ]
  },
  {
   "cell_type": "code",
   "execution_count": 0,
   "metadata": {
    "application/vnd.databricks.v1+cell": {
     "cellMetadata": {
      "byteLimit": 2048000,
      "rowLimit": 10000
     },
     "collapsed": true,
     "inputWidgets": {},
     "nuid": "0542633a-29cf-4d05-b608-f1d92861ab96",
     "showTitle": false,
     "tableResultSettingsMap": {},
     "title": ""
    }
   },
   "outputs": [],
   "source": [
    "SELECT * from workspace.project.netflix_country "
   ]
  },
  {
   "cell_type": "code",
   "execution_count": 0,
   "metadata": {
    "application/vnd.databricks.v1+cell": {
     "cellMetadata": {
      "byteLimit": 2048000,
      "rowLimit": 10000
     },
     "inputWidgets": {},
     "nuid": "c3a98a4f-55e5-4407-83ce-307df8da392e",
     "showTitle": false,
     "tableResultSettingsMap": {},
     "title": ""
    }
   },
   "outputs": [],
   "source": [
    "-- Splitting the cast\n",
    "\n",
    "Create or replace view workspace.project.netflix_cast \n",
    "AS \n",
    "SELECT\n",
    "  show_id,\n",
    "  trim(star_cast) as star_cats\n",
    "FROM (\n",
    "  SELECT\n",
    "    show_id,\n",
    "    explode(split(`cast`, ',')) AS star_cast\n",
    "  FROM workspace.project.netflix_titles\n",
    ")"
   ]
  },
  {
   "cell_type": "code",
   "execution_count": 0,
   "metadata": {
    "application/vnd.databricks.v1+cell": {
     "cellMetadata": {
      "byteLimit": 2048000,
      "rowLimit": 10000
     },
     "collapsed": true,
     "inputWidgets": {},
     "nuid": "b33d145a-52f8-4ee0-8b5a-d9760deaf6eb",
     "showTitle": false,
     "tableResultSettingsMap": {},
     "title": ""
    }
   },
   "outputs": [],
   "source": [
    "SELECT * from workspace.project.netflix_cast"
   ]
  },
  {
   "cell_type": "code",
   "execution_count": 0,
   "metadata": {
    "application/vnd.databricks.v1+cell": {
     "cellMetadata": {
      "byteLimit": 2048000,
      "rowLimit": 10000
     },
     "inputWidgets": {},
     "nuid": "94aaa952-6008-422b-9fa1-d0927d8b1303",
     "showTitle": false,
     "tableResultSettingsMap": {},
     "title": ""
    }
   },
   "outputs": [],
   "source": [
    "--  Splitting the Cast \n",
    "\n",
    "Create or replace view workspace.project.netflix_genre\n",
    "AS \n",
    "SELECT\n",
    "  show_id,\n",
    "  trim(genre) as genre\n",
    "FROM (\n",
    "  SELECT\n",
    "    show_id,\n",
    "    explode(split(listed_in, ',')) AS genre\n",
    "  FROM workspace.project.netflix_titles\n",
    ")"
   ]
  },
  {
   "cell_type": "code",
   "execution_count": 0,
   "metadata": {
    "application/vnd.databricks.v1+cell": {
     "cellMetadata": {
      "byteLimit": 2048000,
      "rowLimit": 10000
     },
     "collapsed": true,
     "inputWidgets": {},
     "nuid": "a3f38a65-1466-40ff-bcea-a1abd67d7e27",
     "showTitle": false,
     "tableResultSettingsMap": {},
     "title": ""
    }
   },
   "outputs": [],
   "source": [
    "SELECT * from workspace.project.netflix_genre"
   ]
  },
  {
   "cell_type": "code",
   "execution_count": 0,
   "metadata": {
    "application/vnd.databricks.v1+cell": {
     "cellMetadata": {
      "byteLimit": 2048000,
      "rowLimit": 10000
     },
     "inputWidgets": {},
     "nuid": "abf7aede-cc78-44b3-8d3c-5274e68d3774",
     "showTitle": false,
     "tableResultSettingsMap": {},
     "title": ""
    }
   },
   "outputs": [],
   "source": [
    "-- checking the datatype of date added \n",
    "\n",
    "DESC workspace.project.netflix_titles"
   ]
  },
  {
   "cell_type": "code",
   "execution_count": 0,
   "metadata": {
    "application/vnd.databricks.v1+cell": {
     "cellMetadata": {},
     "inputWidgets": {},
     "nuid": "ac906223-c4ef-4866-874f-b1cc0fc66a0a",
     "showTitle": false,
     "tableResultSettingsMap": {},
     "title": ""
    }
   },
   "outputs": [],
   "source": [
    "with base as (SELECT *, \n",
    "row_number() OVER (partition by upper(title), type order by show_id) as rn \n",
    "FROM workspace.project.netflix_titles\n",
    ")\n",
    "Select show_id, type, title, cast(date_added as date) as date_added, release_year,rating, duration, description from base where rn > 1"
   ]
  },
  {
   "cell_type": "code",
   "execution_count": 0,
   "metadata": {
    "application/vnd.databricks.v1+cell": {
     "cellMetadata": {
      "byteLimit": 2048000,
      "rowLimit": 10000
     },
     "inputWidgets": {},
     "nuid": "63c7bcfd-2276-4965-b5f2-e6a17e0afec0",
     "showTitle": false,
     "tableResultSettingsMap": {},
     "title": ""
    }
   },
   "outputs": [],
   "source": [
    "SELECT country from workspace.project.netflix_country\n",
    "where show_id = 's1001'"
   ]
  }
 ],
 "metadata": {
  "application/vnd.databricks.v1+notebook": {
   "computePreferences": {
    "hardware": {
     "accelerator": null,
     "gpuPoolId": null,
     "memory": null
    }
   },
   "dashboards": [],
   "environmentMetadata": {
    "base_environment": "",
    "environment_version": "3"
   },
   "inputWidgetPreferences": null,
   "language": "sql",
   "notebookMetadata": {
    "pythonIndentUnit": 4
   },
   "notebookName": "netflix_project",
   "widgets": {}
  },
  "language_info": {
   "name": "sql"
  }
 },
 "nbformat": 4,
 "nbformat_minor": 0
}
