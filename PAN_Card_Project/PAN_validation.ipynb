{
 "cells": [
  {
   "cell_type": "markdown",
   "metadata": {
    "application/vnd.databricks.v1+cell": {
     "cellMetadata": {},
     "inputWidgets": {},
     "nuid": "03739504-6978-4673-b95f-62cc2aba5897",
     "showTitle": false,
     "tableResultSettingsMap": {},
     "title": ""
    }
   },
   "source": [
    "# PAN Number Validation Project\n",
    "\n",
    "## Data Cleaning and Validation\n",
    "\n",
    "### Objective \n",
    "\n",
    "You are tasked with cleaning and validating a dataset containing the Permanent\n",
    "Account Numbers (PAN) of Indian nationals. The goal is to ensure that each PAN\n",
    "number adheres to the official format and is categorised as either Valid or Invalid.\n",
    "The dataset is given in a separate Excel file.\n",
    "\n",
    "### Instructions\n",
    "\n",
    "1. **Data Cleaning and Preprocessing:**\n",
    "-   Identify and handle missing data: PAN numbers may have missing values.These missing values need to be handled appropriately, either byremoving rows or imputing values (depending on the context).\n",
    "\n",
    "-   Check for duplicates: Ensure there are no duplicate PAN numbers. If duplicates exist, remove them.\n",
    "\n",
    "-   Handle leading/trailing spaces: PAN numbers may have extra spaces before or after the actual number. Remove any such spaces.\n",
    "\n",
    "-   Correct letter case: Ensure that the PAN numbers are in uppercase letters(if any lowercase letters are present).\n",
    "\n",
    "2. **PAN Format Validation:** A valid PAN number follows the format:\n",
    "  - It is exactly 10 characters long.\n",
    "  - The format is as follows: AAAAA1234A\n",
    "  - The first five characters should be alphabetic (uppercase letters).\n",
    "      - Adjacent characters(alphabets) cannot be the same (like AABCD isinvalid; AXBCD is valid)\n",
    "      - All five characters cannot form a sequence (like: ABCDE, BCDEF is invalid; ABCDX is valid)\n",
    "\n",
    "   - The next four characters should be numeric (digits).\n",
    "        - Adjacent characters(digits) cannot be the same (like 1123 is invalid; 1923 is valid)\n",
    "        - All four characters cannot form a sequence (like: 1234, 2345)\n",
    "        - The last character should be alphabetic (uppercase letter). Example of a valid PAN: AHGVE1276F\n",
    "\n",
    "3. **Categorisation:**\n",
    "  - Valid PAN: If the PAN number matches the above format.\n",
    "  - Invalid PAN: If the PAN number does not match the correct format, is\n",
    "  - incomplete, or contains any non-alphanumeric characters.\n",
    "\n",
    "4. **Tasks:**\n",
    "  - Validate the PAN numbers based on the format mentioned above.\n",
    "  - **Create two separate categories:**\n",
    "    - Valid PAN\n",
    "    - Invalid PAN\n",
    "  - **Create a summary report that provides the following:**\n",
    "    - Total records processed\n",
    "    - Total valid PANs\n",
    "    - Total invalid PANs\n",
    "    - Total missing or incomplete PANs (if applicable)\n"
   ]
  },
  {
   "cell_type": "code",
   "execution_count": 0,
   "metadata": {
    "application/vnd.databricks.v1+cell": {
     "cellMetadata": {
      "byteLimit": 2048000,
      "rowLimit": 10000
     },
     "collapsed": true,
     "inputWidgets": {},
     "nuid": "dce6a93e-5fa1-4620-b8f1-f984d519beef",
     "showTitle": false,
     "tableResultSettingsMap": {},
     "title": ""
    }
   },
   "outputs": [],
   "source": [
    "--  Displaying the data \n",
    "\n",
    "Select * from workspace.project.pan_number "
   ]
  },
  {
   "cell_type": "code",
   "execution_count": 0,
   "metadata": {
    "application/vnd.databricks.v1+cell": {
     "cellMetadata": {
      "byteLimit": 2048000,
      "rowLimit": 10000
     },
     "inputWidgets": {},
     "nuid": "ea7057ad-bce1-418e-ad2a-3b54c6935048",
     "showTitle": false,
     "tableResultSettingsMap": {},
     "title": ""
    }
   },
   "outputs": [],
   "source": [
    "-- Identify and handle missing data\n",
    "\n",
    "SELECT *\n",
    "FROM workspace.project.pan_number \n",
    "WHERE Pan_Numbers IS NULL\n",
    "   OR TRIM(Pan_Numbers) = '';\n"
   ]
  },
  {
   "cell_type": "code",
   "execution_count": 0,
   "metadata": {
    "application/vnd.databricks.v1+cell": {
     "cellMetadata": {
      "byteLimit": 2048000,
      "rowLimit": 10000
     },
     "inputWidgets": {},
     "nuid": "f7767370-f125-460c-9590-c70c2a280d4c",
     "showTitle": false,
     "tableResultSettingsMap": {},
     "title": ""
    }
   },
   "outputs": [],
   "source": [
    "SELECT Pan_Numbers, count(*) FROM workspace.project.pan_number\n",
    "GROUP by Pan_Numbers\n",
    "HAVING count(*) > 1"
   ]
  },
  {
   "cell_type": "code",
   "execution_count": 0,
   "metadata": {
    "application/vnd.databricks.v1+cell": {
     "cellMetadata": {
      "byteLimit": 2048000,
      "rowLimit": 10000
     },
     "collapsed": true,
     "inputWidgets": {},
     "nuid": "c32e62c1-bf48-4ab0-a659-ff25edf6e677",
     "showTitle": false,
     "tableResultSettingsMap": {},
     "title": ""
    }
   },
   "outputs": [],
   "source": [
    "-- handling leading and trailing spaces \n",
    "\n",
    "SELECT * from workspace.project.pan_number\n",
    "where Pan_Numbers <> trim(Pan_Numbers)\n"
   ]
  },
  {
   "cell_type": "code",
   "execution_count": 0,
   "metadata": {
    "application/vnd.databricks.v1+cell": {
     "cellMetadata": {
      "byteLimit": 2048000,
      "rowLimit": 10000
     },
     "collapsed": true,
     "inputWidgets": {},
     "nuid": "7e682ebe-704f-446b-aa04-c3fcc7a04f48",
     "showTitle": false,
     "tableResultSettingsMap": {},
     "title": ""
    }
   },
   "outputs": [],
   "source": [
    "-- Correct letter case: \n",
    "\n",
    "SELECT * FROM workspace.project.pan_number\n",
    "WHERE Pan_Numbers <> upper(Pan_Numbers)\n"
   ]
  },
  {
   "cell_type": "code",
   "execution_count": 0,
   "metadata": {
    "application/vnd.databricks.v1+cell": {
     "cellMetadata": {
      "byteLimit": 2048000,
      "rowLimit": 10000
     },
     "collapsed": true,
     "inputWidgets": {},
     "nuid": "9a6c049b-5fd9-44d0-9909-bb48581a80c9",
     "showTitle": false,
     "tableResultSettingsMap": {},
     "title": ""
    }
   },
   "outputs": [],
   "source": [
    "-- Cleaned Pan numbers \n",
    "\n",
    "SELECT DISTINCT upper(trim(Pan_Numbers)) as Pan_Numbers FROM workspace.project.pan_number \n",
    "where Pan_Numbers is not null \n",
    "and trim(Pan_Numbers) <> ''"
   ]
  },
  {
   "cell_type": "code",
   "execution_count": 0,
   "metadata": {
    "application/vnd.databricks.v1+cell": {
     "cellMetadata": {
      "byteLimit": 2048000,
      "rowLimit": 10000
     },
     "inputWidgets": {},
     "nuid": "40bd5774-2255-49a3-9d00-e477c582b331",
     "showTitle": false,
     "tableResultSettingsMap": {},
     "title": ""
    }
   },
   "outputs": [],
   "source": [
    "-- function for repetition check \n",
    "\n",
    "CREATE OR REPLACE FUNCTION fn_check_adjacent_repetition(p_str STRING)\n",
    "RETURNS BOOLEAN\n",
    "RETURN regexp_like(p_str, '(.)\\\\1');\n"
   ]
  },
  {
   "cell_type": "code",
   "execution_count": 0,
   "metadata": {
    "application/vnd.databricks.v1+cell": {
     "cellMetadata": {
      "byteLimit": 2048000,
      "rowLimit": 10000
     },
     "collapsed": true,
     "inputWidgets": {},
     "nuid": "49246763-4968-4247-9b3d-5165261cf946",
     "showTitle": false,
     "tableResultSettingsMap": {},
     "title": ""
    }
   },
   "outputs": [],
   "source": [
    "SELECT fn_check_adjacent_repetition('ZWOVO')"
   ]
  },
  {
   "cell_type": "code",
   "execution_count": 0,
   "metadata": {
    "application/vnd.databricks.v1+cell": {
     "cellMetadata": {
      "byteLimit": 2048000,
      "rowLimit": 10000
     },
     "inputWidgets": {},
     "nuid": "ec5129da-6bb9-4965-969b-5d8babd82771",
     "showTitle": false,
     "tableResultSettingsMap": {},
     "title": ""
    }
   },
   "outputs": [],
   "source": [
    "CREATE OR REPLACE FUNCTION fn_check_sequence(p_str STRING)\n",
    "RETURNS BOOLEAN\n",
    "RETURN\n",
    "  CASE\n",
    "    WHEN p_str IS NULL THEN FALSE\n",
    "    WHEN length(p_str) < 2 THEN TRUE\n",
    "    ELSE\n",
    "      forall(\n",
    "        sequence(1, length(p_str) - 1),\n",
    "        i -> ascii(substring(p_str, i + 1, 1)) - ascii(substring(p_str, i, 1)) = 1\n",
    "      )\n",
    "  END;"
   ]
  },
  {
   "cell_type": "code",
   "execution_count": 0,
   "metadata": {
    "application/vnd.databricks.v1+cell": {
     "cellMetadata": {
      "byteLimit": 2048000,
      "rowLimit": 10000
     },
     "inputWidgets": {},
     "nuid": "36573ea2-db9a-4c41-8830-92e09659051b",
     "showTitle": false,
     "tableResultSettingsMap": {},
     "title": ""
    }
   },
   "outputs": [],
   "source": [
    "SELECT fn_check_sequence('ABCDE');   -- true\n",
    "-- SELECT fn_check_sequence('LMNOP');   -- true\n",
    "-- SELECT fn_check_sequence('ACDFG');   -- false\n"
   ]
  },
  {
   "cell_type": "code",
   "execution_count": 0,
   "metadata": {
    "application/vnd.databricks.v1+cell": {
     "cellMetadata": {
      "byteLimit": 2048000,
      "rowLimit": 10000
     },
     "inputWidgets": {},
     "nuid": "cdeec6a4-aa8c-4cd5-bb08-76c74c312f7d",
     "showTitle": false,
     "tableResultSettingsMap": {},
     "title": ""
    }
   },
   "outputs": [],
   "source": [
    "-- valid and invalid pan categorization\n",
    "Create or replace view workspace.project.vw_valid_pan \n",
    "as \n",
    "with cleaned_pan as (\n",
    "SELECT DISTINCT upper(trim(Pan_Numbers)) as Pan_Numbers FROM workspace.project.pan_number \n",
    "where Pan_Numbers is not null \n",
    "and trim(Pan_Numbers) <> ''), \n",
    "Valid_pan as (\n",
    "select * from cleaned_pan\n",
    "where fn_check_adjacent_repetition(Pan_Numbers) = false\n",
    "and \n",
    "fn_check_sequence(Substring(Pan_Numbers,1,5)) = false\n",
    "and \n",
    "fn_check_sequence(Substring(Pan_Numbers,6,4)) = false\n",
    "and Pan_Numbers REGEXP '^[A-Z]{5}[0-9]{4}[A-Z]$')\n",
    "\n",
    "select cln.Pan_Numbers,\n",
    "case when v_pan.Pan_Numbers is null \n",
    "then 'Invalid' \n",
    "else 'Valid' \n",
    "end as Pan_Status\n",
    "from cleaned_pan cln \n",
    "left join Valid_pan v_pan on cln.Pan_Numbers = v_pan.Pan_Numbers\n",
    "\n",
    "\n",
    "\n"
   ]
  },
  {
   "cell_type": "code",
   "execution_count": 0,
   "metadata": {
    "application/vnd.databricks.v1+cell": {
     "cellMetadata": {
      "byteLimit": 2048000,
      "rowLimit": 10000
     },
     "inputWidgets": {},
     "nuid": "ccdc226e-0856-4259-8a1d-736bf0b84f3c",
     "showTitle": false,
     "tableResultSettingsMap": {},
     "title": ""
    }
   },
   "outputs": [],
   "source": [
    "-- Summary reports \n",
    "with cte  as \n",
    "(Select\n",
    "(Select count(*) from workspace.project.pan_number )as total_processed_records,\n",
    "COUNT(*) FILTER (WHERE vw.Pan_Status = 'Valid') AS total_valid_pans,\n",
    "COUNT(*) FILTER (WHERE vw.Pan_Status = 'Invalid') AS total_invalid_pans\n",
    "\tfrom  workspace.project.vw_valid_pan vw)\n",
    "Select *, total_processed_records - (total_valid_pans+total_invalid_pans) as missing_incomplete_PANS from cte \n",
    "\n"
   ]
  }
 ],
 "metadata": {
  "application/vnd.databricks.v1+notebook": {
   "computePreferences": {
    "hardware": {
     "accelerator": null,
     "gpuPoolId": null,
     "memory": null
    }
   },
   "dashboards": [],
   "environmentMetadata": {
    "base_environment": "",
    "environment_version": "2"
   },
   "inputWidgetPreferences": null,
   "language": "sql",
   "notebookMetadata": {
    "pythonIndentUnit": 4
   },
   "notebookName": "PAN_validation",
   "widgets": {}
  },
  "language_info": {
   "name": "sql"
  }
 },
 "nbformat": 4,
 "nbformat_minor": 0
}
