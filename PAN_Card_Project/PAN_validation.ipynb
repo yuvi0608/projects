{
 "cells": [
  {
   "cell_type": "markdown",
   "metadata": {
    "application/vnd.databricks.v1+cell": {
     "cellMetadata": {},
     "inputWidgets": {},
     "nuid": "03739504-6978-4673-b95f-62cc2aba5897",
     "showTitle": false,
     "tableResultSettingsMap": {},
     "title": ""
    }
   },
   "source": [
    "# PAN Number Validation Project\n",
    "\n",
    "## Data Cleaning and Validation\n",
    "\n",
    "### Objective \n",
    "\n",
    "You are tasked with cleaning and validating a dataset containing the Permanent\n",
    "Account Numbers (PAN) of Indian nationals. The goal is to ensure that each PAN\n",
    "number adheres to the official format and is categorised as either Valid or Invalid.\n",
    "The dataset is given in a separate Excel file.\n",
    "\n",
    "### Instructions\n",
    "\n",
    "1. **Data Cleaning and Preprocessing:**\n",
    "-   Identify and handle missing data: PAN numbers may have missing values.These missing values need to be handled appropriately, either byremoving rows or imputing values (depending on the context).\n",
    "\n",
    "-   Check for duplicates: Ensure there are no duplicate PAN numbers. If duplicates exist, remove them.\n",
    "\n",
    "-   Handle leading/trailing spaces: PAN numbers may have extra spaces before or after the actual number. Remove any such spaces.\n",
    "\n",
    "-   Correct letter case: Ensure that the PAN numbers are in uppercase letters(if any lowercase letters are present).\n",
    "\n",
    "2. **PAN Format Validation:** A valid PAN number follows the format:\n",
    "  - It is exactly 10 characters long.\n",
    "  - The format is as follows: AAAAA1234A\n",
    "  - The first five characters should be alphabetic (uppercase letters).\n",
    "\n",
    "        - Adjacent characters(alphabets) cannot be the same (like AABCD isinvalid; AXBCD is valid)\n",
    "        - All five characters cannot form a sequence (like: ABCDE, BCDEF is invalid; ABCDX is valid)\n",
    "        - The next four characters should be numeric (digits).\n",
    "        - Adjacent characters(digits) cannot be the same (like 1123 is invalid; 1923 is valid)\n",
    "        - All four characters cannot form a sequence (like: 1234, 2345)\n",
    "        - The last character should be alphabetic (uppercase letter). Example of a valid PAN: AHGVE1276F\n",
    "\n",
    "3. **Categorisation:**\n",
    "  - Valid PAN: If the PAN number matches the above format.\n",
    "  - Invalid PAN: If the PAN number does not match the correct format, is\n",
    "  - incomplete, or contains any non-alphanumeric characters.\n",
    "\n",
    "4. **Tasks:**\n",
    "  - Validate the PAN numbers based on the format mentioned above.\n",
    "  - **Create two separate categories:**\n",
    "    - Valid PAN\n",
    "    - Invalid PAN\n",
    "  - **Create a summary report that provides the following:**\n",
    "    - Total records processed\n",
    "    - Total valid PANs\n",
    "    - Total invalid PANs\n",
    "    - Total missing or incomplete PANs (if applicable)\n"
   ]
  },
  {
   "cell_type": "code",
   "execution_count": 0,
   "metadata": {
    "application/vnd.databricks.v1+cell": {
     "cellMetadata": {
      "byteLimit": 2048000,
      "rowLimit": 10000
     },
     "collapsed": true,
     "inputWidgets": {},
     "nuid": "dce6a93e-5fa1-4620-b8f1-f984d519beef",
     "showTitle": false,
     "tableResultSettingsMap": {},
     "title": ""
    }
   },
   "outputs": [],
   "source": [
    "--  Displaying the data \n",
    "\n",
    "Select * from workspace.project.pan_number "
   ]
  },
  {
   "cell_type": "code",
   "execution_count": 0,
   "metadata": {
    "application/vnd.databricks.v1+cell": {
     "cellMetadata": {
      "byteLimit": 2048000,
      "rowLimit": 10000
     },
     "inputWidgets": {},
     "nuid": "ea7057ad-bce1-418e-ad2a-3b54c6935048",
     "showTitle": false,
     "tableResultSettingsMap": {},
     "title": ""
    }
   },
   "outputs": [],
   "source": [
    "-- Identify and handle missing data\n",
    "\n",
    "SELECT *\n",
    "FROM workspace.project.pan_number \n",
    "WHERE Pan_Numbers IS NULL\n",
    "   OR TRIM(Pan_Numbers) = '';\n"
   ]
  },
  {
   "cell_type": "code",
   "execution_count": 0,
   "metadata": {
    "application/vnd.databricks.v1+cell": {
     "cellMetadata": {
      "byteLimit": 2048000,
      "rowLimit": 10000
     },
     "inputWidgets": {},
     "nuid": "f7767370-f125-460c-9590-c70c2a280d4c",
     "showTitle": false,
     "tableResultSettingsMap": {},
     "title": ""
    }
   },
   "outputs": [],
   "source": [
    "SELECT Pan_Numbers, count(*) FROM workspace.project.pan_number\n",
    "GROUP by Pan_Numbers\n",
    "HAVING count(*) > 1"
   ]
  }
 ],
 "metadata": {
  "application/vnd.databricks.v1+notebook": {
   "computePreferences": null,
   "dashboards": [],
   "environmentMetadata": {
    "base_environment": "",
    "environment_version": "2"
   },
   "inputWidgetPreferences": null,
   "language": "sql",
   "notebookMetadata": {
    "pythonIndentUnit": 4
   },
   "notebookName": "PAN_validation",
   "widgets": {}
  },
  "language_info": {
   "name": "sql"
  }
 },
 "nbformat": 4,
 "nbformat_minor": 0
}
